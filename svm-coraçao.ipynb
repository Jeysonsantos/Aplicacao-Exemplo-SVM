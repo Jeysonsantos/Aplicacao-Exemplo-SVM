{
 "cells": [
  {
   "cell_type": "code",
   "execution_count": 1,
   "metadata": {},
   "outputs": [
    {
     "name": "stdout",
     "output_type": "stream",
     "text": [
      "Provavelmente nos próximos 10 anos não terás problemas no coração\n"
     ]
    }
   ],
   "source": [
    "import pandas as pd\n",
    "import sklearn.model_selection as ms\n",
    "from sklearn.svm import SVC\n",
    "from sklearn.preprocessing import StandardScaler \n",
    " \n",
    "\n",
    "dataset = pd.read_csv(\"framingham_heart_disease.csv\")\n",
    "dataset = dataset.dropna()\n",
    "X = dataset.iloc[:, :-1].values\n",
    "y = dataset.iloc[:, -1].values\n",
    " \n",
    "\n",
    "X_treino, X_teste, y_treino, y_teste = ms.train_test_split(X, y, test_size = 2/5, random_state = 0)\n",
    " \n",
    "\n",
    "sc_X_treino = StandardScaler()\n",
    "sc_X_teste = StandardScaler()\n",
    " \n",
    "X_treino = sc_X_treino.fit_transform(X_treino)\n",
    "X_teste = sc_X_treino.fit_transform(X_teste)\n",
    " \n",
    " \n",
    "classificador = SVC(kernel='rbf')\n",
    "classificador.fit(X_treino, y_treino)\n",
    " \n",
    "resultado = (classificador.predict([[0,21,2,1,20,0,0,1,0,221,140,90,21.35,95,70]]))\n",
    "\n",
    "if (resultado == 0):\n",
    "    print(\"Provavelmente nos próximos 10 anos não terás problemas no coração\")\n",
    "else:\n",
    "    print(\"Há uma chance de nos próximos 10 anos você ter alguma doença no coração\")"
   ]
  }
 ],
 "metadata": {
  "kernelspec": {
   "display_name": "Python 3.9.12 ('base')",
   "language": "python",
   "name": "python3"
  },
  "language_info": {
   "codemirror_mode": {
    "name": "ipython",
    "version": 3
   },
   "file_extension": ".py",
   "mimetype": "text/x-python",
   "name": "python",
   "nbconvert_exporter": "python",
   "pygments_lexer": "ipython3",
   "version": "3.9.12"
  },
  "orig_nbformat": 4,
  "vscode": {
   "interpreter": {
    "hash": "a97dd3cad4a39c408b3dbd248a3e9fff73a213f291400ccbab589b326549425c"
   }
  }
 },
 "nbformat": 4,
 "nbformat_minor": 2
}
